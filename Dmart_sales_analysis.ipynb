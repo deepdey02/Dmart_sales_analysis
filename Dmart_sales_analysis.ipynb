{
 "cells": [
  {
   "cell_type": "code",
   "execution_count": null,
   "id": "11bdc45d-53c9-4cd4-843a-f8559c22dd1d",
   "metadata": {},
   "outputs": [],
   "source": [
    "import numpy as np\n",
    "import pandas as pd\n",
    "import matplotlib.pyplot as plt\n",
    "import stats\n",
    "import seaborn as sns\n",
    "import warnings\n",
    "warnings.filterwarnings(\"ignore\")"
   ]
  },
  {
   "cell_type": "code",
   "execution_count": null,
   "id": "006c8d3c-54f9-492a-bbc2-5f2d2eeebf2e",
   "metadata": {},
   "outputs": [],
   "source": [
    "dmart=pd.read_csv('DMart_Grocery_Sales_-_Retail_Analytics_Dataset.csv')\n",
    "dmart"
   ]
  },
  {
   "cell_type": "code",
   "execution_count": null,
   "id": "5cd23624-41db-4a8f-b3c8-b23a773aa46f",
   "metadata": {},
   "outputs": [],
   "source": [
    "import OOPs_deep_stats as deep                       #this is my file name with an alias\n",
    "statistical_obj = ['Profit','Sales','Discount']                 # I have mentioned the column name \n",
    "for i in statistical_obj:       \n",
    "    print(i)\n",
    "    statistical_obj=deep.DataStats_Deep(dmart[i])                       # this is my class name-DataStats_Deep means the library which i have created\n",
    "    statistical_obj.everything()\n",
    "    print('-'*40)"
   ]
  },
  {
   "cell_type": "code",
   "execution_count": null,
   "id": "de87db88-aee7-45fe-9d80-32e3ad03f7d9",
   "metadata": {},
   "outputs": [],
   "source": [
    "dmart.describe()"
   ]
  },
  {
   "cell_type": "code",
   "execution_count": null,
   "id": "6629558c-3013-4900-8c59-99fd20567233",
   "metadata": {},
   "outputs": [],
   "source": [
    "dmart.columns"
   ]
  },
  {
   "cell_type": "code",
   "execution_count": null,
   "id": "2cd34e44-8a9a-4729-b718-78cea2b8fa97",
   "metadata": {},
   "outputs": [],
   "source": [
    "tot_sales=dmart['Sales'].sum()\n",
    "tot_profit=dmart['Profit'].sum()\n",
    "avg_discount=dmart[\"Discount\"].mean()\n",
    "print(tot_sales)\n",
    "print(tot_profit)\n",
    "print(avg_discount)"
   ]
  },
  {
   "cell_type": "code",
   "execution_count": null,
   "id": "3685ece1-88e8-4352-99f2-02bde8c085cc",
   "metadata": {},
   "outputs": [],
   "source": [
    "dmart[[\"Sales\", \"Profit\", \"Discount\"]].corr()"
   ]
  },
  {
   "cell_type": "code",
   "execution_count": null,
   "id": "93b33727-2267-4463-aa76-2c3be895bb5d",
   "metadata": {},
   "outputs": [],
   "source": [
    "profit_by_state=dmart.groupby('State').agg(Total_Profit=('Profit', 'sum')).reset_index().sort_values('Total_Profit', ascending=False)\n",
    "profit_by_state"
   ]
  },
  {
   "cell_type": "code",
   "execution_count": null,
   "id": "318948e6-4e57-48ef-b6b2-722ac30d29ac",
   "metadata": {},
   "outputs": [],
   "source": [
    "discount_by_state = dmart.groupby('State').agg(Avg_Discount=('Discount', 'mean')).reset_index() \n",
    "\n",
    "discount_by_state['Avg_Discount'] = discount_by_state['Avg_Discount'] * 100      # to find percentage\n",
    "discount_by_state"
   ]
  },
  {
   "cell_type": "code",
   "execution_count": null,
   "id": "16cd36ca-d740-46ad-814d-16a2732397af",
   "metadata": {},
   "outputs": [],
   "source": [
    "sales_by_state = dmart.groupby('State').agg(Total_Sales=('Sales', 'sum')).reset_index()\n",
    "sales_by_state"
   ]
  },
  {
   "cell_type": "code",
   "execution_count": null,
   "id": "6aad1d3d-ddec-4a27-966a-e1331ff461ac",
   "metadata": {},
   "outputs": [],
   "source": [
    "profit_by_region = dmart.groupby('Region').agg(Total_Profit=('Profit', 'sum')).reset_index().sort_values('Total_Profit', ascending=False)\n",
    "\n",
    "highest_profit_region = profit_by_region.iloc[0]\n",
    "print(f\"Region with highest profit: {highest_profit_region['Region']} (₹{highest_profit_region['Total_Profit']:.2f})\")\n",
    "profit_by_region"
   ]
  },
  {
   "cell_type": "code",
   "execution_count": null,
   "id": "b5ef105a-6a67-4750-800a-c745b4a9e776",
   "metadata": {
    "scrolled": true
   },
   "outputs": [],
   "source": [
    "region_sales = dmart.groupby('Region').agg(Total_Sales=('Sales', 'sum')).reset_index().sort_values('Total_Sales', ascending=False)\n",
    "region_sales"
   ]
  },
  {
   "cell_type": "code",
   "execution_count": null,
   "id": "7a9c3777-5788-480c-9f41-10c2bd738dda",
   "metadata": {},
   "outputs": [],
   "source": [
    "discount_by_region = dmart.groupby('Region').agg(Avg_Discount=('Discount', 'mean')).reset_index()\n",
    "discount_by_region['Avg_Discount'] = discount_by_region['Avg_Discount'] * 100\n",
    "discount_by_region"
   ]
  },
  {
   "cell_type": "code",
   "execution_count": null,
   "id": "c1989293-cac8-440a-9170-83fa2db4b4d5",
   "metadata": {},
   "outputs": [],
   "source": [
    "dmart['Order Date'] = pd.to_datetime(dmart['Order Date'], format='%d-%m-%Y')\n",
    "\n",
    "dmart['Year'] = dmart['Order Date'].dt.year\n",
    "sales_by_year = dmart.groupby('Year').agg(Total_Sales=('Sales', 'sum')).reset_index()\n",
    "total_sales_all_years = sales_by_year['Total_Sales'].sum()\n",
    "sales_by_year['Sales_Percentage'] = (sales_by_year['Total_Sales'] / total_sales_all_years) * 100\n",
    "\n",
    "sales_by_year\n",
    "\n",
    "# Ensure Order Date is in datetime format\n",
    "dmart['Order Date'] = pd.to_datetime(dmart['Order Date'], format='%d-%m-%Y')\n",
    "\n",
    "\n",
    "dmart['Year'] = dmart['Order Date'].dt.year\n",
    "sales_by_year = dmart.groupby('Year').agg(Total_Sales=('Sales', 'sum')).reset_index()\n",
    "\n",
    "sales_by_year"
   ]
  },
  {
   "cell_type": "code",
   "execution_count": null,
   "id": "3407f84a-6b4d-45b6-a1e9-5676ec5977d2",
   "metadata": {},
   "outputs": [],
   "source": [
    "# Ensure Order Date is datetime\n",
    "dmart['Order Date'] = pd.to_datetime(dmart['Order Date'], format='%d-%m-%Y', errors='coerce')\n",
    "\n",
    "\n",
    "dmart['Year'] = dmart['Order Date'].dt.year\n",
    "sales_by_year = dmart.groupby('Year').agg(Total_Sales=('Sales', 'sum')).reset_index()\n",
    "total_sales_all_years = sales_by_year['Total_Sales'].sum()\n",
    "sales_by_year['Sales_Percentage'] = (sales_by_year['Total_Sales'] / total_sales_all_years) * 100\n",
    "\n",
    "sales_by_year\n",
    "\n"
   ]
  },
  {
   "cell_type": "code",
   "execution_count": null,
   "id": "f5be17aa-fb83-482d-8c1d-d727f4bcfb64",
   "metadata": {},
   "outputs": [],
   "source": [
    "total_sales_all_years = sales_by_year['Total_Sales'].sum()\n",
    "total_sales_all_years"
   ]
  },
  {
   "cell_type": "code",
   "execution_count": null,
   "id": "1aca8b73-4c14-45db-acc4-c7e6292e74da",
   "metadata": {},
   "outputs": [],
   "source": [
    "dmart['Order Date'] = pd.to_datetime(dmart['Order Date'], format='%d-%m-%Y')\n",
    "\n",
    "dmart['Year'] = dmart['Order Date'].dt.year\n",
    "profit_by_year = dmart.groupby('Year').agg(Total_Profit=('Profit', 'sum')).reset_index()\n",
    "total_profit_all_years = profit_by_year['Total_Profit'].sum()\n",
    "profit_by_year['Profit_Percentage'] = (profit_by_year['Total_Profit'] / total_profit_all_years) * 100\n",
    "\n",
    "profit_by_year"
   ]
  },
  {
   "cell_type": "code",
   "execution_count": null,
   "id": "1165c079-5176-4dfb-8b53-eb305caa5ab7",
   "metadata": {},
   "outputs": [],
   "source": [
    "total_profit_all_years = profit_by_year['Total_Profit'].sum()\n",
    "total_profit_all_years"
   ]
  },
  {
   "cell_type": "code",
   "execution_count": null,
   "id": "b6095ba6-6d2b-4beb-a09b-7f18adcfc88c",
   "metadata": {},
   "outputs": [],
   "source": [
    "dmart['Order Date'] = pd.to_datetime(dmart['Order Date'], format='%d-%m-%Y')\n",
    "\n",
    "dmart['Year'] = dmart['Order Date'].dt.year\n",
    "discount_by_year = dmart.groupby('Year').agg(Total_Discount=('Discount', 'sum')).reset_index()\n",
    "total_discount_all_years = discount_by_year['Total_Discount'].sum()\n",
    "discount_by_year['Discount_Percentage'] = (discount_by_year['Total_Discount'] / total_discount_all_years) * 100\n",
    "\n",
    "discount_by_year"
   ]
  },
  {
   "cell_type": "code",
   "execution_count": null,
   "id": "453f29d6-2992-4c54-84ed-ee037be95596",
   "metadata": {},
   "outputs": [],
   "source": [
    "total_discount_all_years = discount_by_year['Total_Discount'].sum()\n",
    "total_discount_all_years"
   ]
  },
  {
   "cell_type": "code",
   "execution_count": null,
   "id": "b6dca3b3-3c01-4c6b-8b1d-6f104830e0d6",
   "metadata": {},
   "outputs": [],
   "source": [
    "# Ensure Order Date is datetime\n",
    "dmart['Order Date'] = pd.to_datetime(dmart['Order Date'], format='%d-%m-%Y', errors='coerce')\n",
    "\n",
    "# Extract year\n",
    "dmart['Year'] = dmart['Order Date'].dt.year\n",
    "\n",
    "# Group by Year & Region for sales\n",
    "sales_year_region = dmart.groupby(['Year', 'Region']).agg(Total_Sales=('Sales', 'sum')).reset_index()\n",
    "sales_year_region"
   ]
  },
  {
   "cell_type": "code",
   "execution_count": null,
   "id": "fa56a21e-b0df-45ab-8aae-97ed2446d3c5",
   "metadata": {},
   "outputs": [],
   "source": [
    "# Ensure Order Date is datetime\n",
    "dmart['Order Date'] = pd.to_datetime(dmart['Order Date'], format='%d-%m-%Y', errors='coerce')\n",
    "\n",
    "# Extract year\n",
    "dmart['Year'] = dmart['Order Date'].dt.year\n",
    "\n",
    "# Group by Year & Region for Discount\n",
    "discount_year_region = dmart.groupby(['Year', 'Region']).agg(Total_Discount=('Discount', 'sum')).reset_index()\n",
    "discount_year_region"
   ]
  },
  {
   "cell_type": "code",
   "execution_count": null,
   "id": "fa41773d-bb1c-4493-967a-49e145d248d4",
   "metadata": {},
   "outputs": [],
   "source": [
    "# Ensure Order Date is datetime\n",
    "dmart['Order Date'] = pd.to_datetime(dmart['Order Date'], format='%d-%m-%Y', errors='coerce')\n",
    "\n",
    "# Extract year\n",
    "dmart['Year'] = dmart['Order Date'].dt.year\n",
    "\n",
    "# Group by Year & Region for Profit\n",
    "profit_year_region = dmart.groupby(['Year', 'Region']).agg(Total_Profit=('Profit', 'sum')).reset_index()\n",
    "profit_year_region"
   ]
  },
  {
   "cell_type": "code",
   "execution_count": null,
   "id": "e9175cc6-6f73-4e15-a749-eef6c5cc66b2",
   "metadata": {},
   "outputs": [],
   "source": [
    "profit_pivot = profit_year_region.pivot(index='Year', columns='Region', values='Total_Profit').fillna(0)\n",
    "profit_pivot"
   ]
  },
  {
   "cell_type": "code",
   "execution_count": null,
   "id": "30bd19af-d1ca-4793-b2d7-7b45e9219dea",
   "metadata": {},
   "outputs": [],
   "source": [
    "# Group by City for total profit\n",
    "city_profit = dmart.groupby('City').agg(Total_Profit=('Profit', 'sum')).reset_index()\n",
    "\n",
    "# Calculate percentage contribution of each city\n",
    "total_profit = city_profit['Total_Profit'].sum()\n",
    "city_profit['Profit_Percentage'] = (city_profit['Total_Profit'] / total_profit) * 100\n",
    "\n",
    "# Sort by profit (optional for better readability)\n",
    "city_profit = city_profit.sort_values(by='Total_Profit', ascending=True).reset_index(drop=True)\n",
    "\n",
    "city_profit\n"
   ]
  },
  {
   "cell_type": "code",
   "execution_count": null,
   "id": "5b3b9060-d805-4cc0-b716-8c50b778e8a5",
   "metadata": {},
   "outputs": [],
   "source": [
    "# Group by City for total sales\n",
    "city_sales = dmart.groupby('City').agg(Total_Sales=('Sales', 'sum')).reset_index()\n",
    "\n",
    "\n",
    "total_sales = city_sales['Total_Sales'].sum()\n",
    "city_sales['Sales_Percentage'] = (city_sales['Total_Sales'] / total_sales) * 100\n",
    "\n",
    "# Sort by sales (optional for clarity)\n",
    "city_sales = city_sales.sort_values(by='Total_Sales', ascending=False).reset_index(drop=True)\n",
    "\n",
    "city_sales\n"
   ]
  },
  {
   "cell_type": "code",
   "execution_count": null,
   "id": "de7e4d0e-6e0d-42e9-b3e2-7ac0667245cc",
   "metadata": {},
   "outputs": [],
   "source": [
    "# Total discount in each city\n",
    "city_discount = dmart.groupby('City').agg(Total_Discount=('Discount', 'sum')).reset_index()\n",
    "\n",
    "# Sort (optional)\n",
    "city_discount = city_discount.sort_values(by='Total_Discount', ascending=False).reset_index(drop=True)\n",
    "\n",
    "city_discount\n"
   ]
  },
  {
   "cell_type": "code",
   "execution_count": null,
   "id": "eab2cbbb-c83c-4c6c-b4d8-fc657b290f9b",
   "metadata": {},
   "outputs": [],
   "source": [
    "# Sales by City and Region\n",
    "city_region_sales = dmart.groupby(['Region', 'City']).agg(Total_Sales=('Sales', 'sum')).reset_index()\n",
    "\n",
    "# Sort for clarity\n",
    "city_region_sales = city_region_sales.sort_values(by=['Region','Total_Sales'], ascending=[True, False])\n",
    "\n",
    "city_region_sales\n"
   ]
  },
  {
   "cell_type": "code",
   "execution_count": null,
   "id": "c0f20b3f-8024-4316-acaa-e007204b6119",
   "metadata": {},
   "outputs": [],
   "source": [
    "# Profit by City and Region\n",
    "city_region_profit = dmart.groupby(['Region', 'City']).agg(Total_Profit=('Profit', 'sum')).reset_index()\n",
    "\n",
    "# Sort for clarity\n",
    "city_region_profit = city_region_profit.sort_values(by=['Region','Total_Profit'], ascending=[True, False])\n",
    "\n",
    "city_region_profit\n"
   ]
  },
  {
   "cell_type": "code",
   "execution_count": null,
   "id": "bd1df9ba-cfa4-4809-91c2-3ecaf7b8e6cc",
   "metadata": {},
   "outputs": [],
   "source": [
    "# Discount by City and Region\n",
    "city_region_discount = dmart.groupby(['Region', 'City']).agg(Total_Discount=('Discount', 'sum')).reset_index()\n",
    "\n",
    "# Sort for clarity\n",
    "city_region_discount = city_region_discount.sort_values(by=['Region','Total_Discount'], ascending=[True, False])\n",
    "\n",
    "city_region_discount\n"
   ]
  },
  {
   "cell_type": "code",
   "execution_count": null,
   "id": "0c0fdc3a-353e-4d91-a331-a84217a227e0",
   "metadata": {},
   "outputs": [],
   "source": [
    "# Sales by Category and City\n",
    "category_city_sales = dmart.groupby(['City', 'Category']).agg(Total_Sales=('Sales', 'sum')).reset_index()\n",
    "\n",
    "# Sort from high to low sales\n",
    "category_city_sales = category_city_sales.sort_values(by='Total_Sales', ascending=False).reset_index(drop=True)\n",
    "\n",
    "category_city_sales\n"
   ]
  },
  {
   "cell_type": "code",
   "execution_count": null,
   "id": "21e83faf-e0d1-4a9e-b404-1aded68cb8a5",
   "metadata": {},
   "outputs": [],
   "source": [
    "# Pivot table: Cities (rows) vs Categories (columns) with Sales\n",
    "category_city_pivot = dmart.pivot_table(index='City',columns='Category',values='Sales',aggfunc='sum',fill_value=0)\n",
    "\n",
    "# Sort cities by total sales (row sum)\n",
    "category_city_pivot['Total_Sales'] = category_city_pivot.sum(axis=1)\n",
    "category_city_pivot = category_city_pivot.sort_values(by='Total_Sales', ascending=False)\n",
    "\n",
    "category_city_pivot\n"
   ]
  },
  {
   "cell_type": "code",
   "execution_count": null,
   "id": "ffd8cc1c-231d-4fa4-9b7b-dd89569cf83f",
   "metadata": {},
   "outputs": [],
   "source": [
    "# Total sales by category\n",
    "category_sales = dmart.groupby('Category').agg(Total_Sales=('Sales', 'sum')).reset_index()\n",
    "\n",
    "highest_category = category_sales.loc[category_sales['Total_Sales'].idxmax()]\n",
    "lowest_category  = category_sales.loc[category_sales['Total_Sales'].idxmin()]\n",
    "\n",
    "print(\"Category with Highest Sales:\")\n",
    "print(highest_category)\n",
    "\n",
    "print(\"\\nCategory with Lowest Sales:\")\n",
    "print(lowest_category)\n"
   ]
  },
  {
   "cell_type": "code",
   "execution_count": null,
   "id": "697291ce-823d-44cb-9b06-a6faecb1c528",
   "metadata": {},
   "outputs": [],
   "source": [
    "# Pivot table: Cities as columns, Categories as rows\n",
    "city_category_pivot = dmart.pivot_table(index='Category',columns='City',values='Sales',aggfunc='sum',fill_value=0)\n",
    "city_category_pivot"
   ]
  },
  {
   "cell_type": "code",
   "execution_count": null,
   "id": "ed44da3e-5364-4d10-aadb-db16da7d5e72",
   "metadata": {},
   "outputs": [],
   "source": [
    "# Total Sales by Sub-Category\n",
    "sub_category_sales = dmart.groupby('Sub Category').agg(Total_Sales=('Sales', 'sum')).reset_index().sort_values(by='Total_Sales', ascending=False)\n",
    "\n",
    "sub_category_sales"
   ]
  },
  {
   "cell_type": "code",
   "execution_count": null,
   "id": "17114da4-f120-4970-85f2-0b5acb7e29f6",
   "metadata": {},
   "outputs": [],
   "source": [
    "# Group by Sub-Category for Sales, Profit, Discount\n",
    "subcat_summary = dmart.groupby('Sub Category').agg(Total_Sales=('Sales', 'sum'),Total_Profit=('Profit', 'sum'),Total_Discount=('Discount', 'sum')).reset_index()\n",
    "\n",
    "# Find max in each metric\n",
    "max_sales = subcat_summary.loc[subcat_summary['Total_Sales'].idxmax()]\n",
    "max_profit = subcat_summary.loc[subcat_summary['Total_Profit'].idxmax()]\n",
    "max_discount = subcat_summary.loc[subcat_summary['Total_Discount'].idxmax()]\n",
    "\n",
    "max_sales\n",
    "max_profit\n",
    "max_discount\n",
    "\n",
    "print(\"Sub Category with Highest Sales:\")\n",
    "print(max_sales[['Sub Category','Total_Sales']])\n",
    "print(\"\\n Sub Category with Highest Profit:\")\n",
    "print(max_profit[['Sub Category','Total_Profit']])\n",
    "print(\"\\n Sub Category with Highest Discount:\")\n",
    "print(max_discount[['Sub Category','Total_Discount']])"
   ]
  }
 ],
 "metadata": {
  "kernelspec": {
   "display_name": "Python [conda env:base] *",
   "language": "python",
   "name": "conda-base-py"
  },
  "language_info": {
   "codemirror_mode": {
    "name": "ipython",
    "version": 3
   },
   "file_extension": ".py",
   "mimetype": "text/x-python",
   "name": "python",
   "nbconvert_exporter": "python",
   "pygments_lexer": "ipython3",
   "version": "3.12.7"
  }
 },
 "nbformat": 4,
 "nbformat_minor": 5
}
